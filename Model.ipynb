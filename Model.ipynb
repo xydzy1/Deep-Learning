{
 "cells": [
  {
   "cell_type": "code",
   "execution_count": 12,
   "metadata": {},
   "outputs": [],
   "source": [
    "import pandas as pd\n",
    "import pickle\n",
    "from sklearn.neural_network import MLPClassifier\n",
    "from sklearn.model_selection import train_test_split, cross_val_score\n",
    "\n",
    "df_submit = pd.read_csv('submission.csv')\n",
    "\n",
    "f = open('final_data.pkl', 'rb')\n",
    "f2 = open('final_test_data.pkl', 'rb')\n",
    "data = pickle.load(f)\n",
    "test_data = pickle.load(f2)"
   ]
  },
  {
   "cell_type": "code",
   "execution_count": 13,
   "metadata": {},
   "outputs": [],
   "source": [
    "train_data, valid_data = train_test_split(data, test_size=0.01)\n",
    "X_train, y_train = train_data.iloc[:, :100], train_data['bad_good']\n",
    "X_valid, y_valid = valid_data.iloc[:, :100], valid_data['bad_good']\n",
    "X_test = test_data"
   ]
  },
  {
   "attachments": {},
   "cell_type": "markdown",
   "metadata": {},
   "source": [
    "### 训练MLP&交叉验证后在测试集上预测"
   ]
  },
  {
   "cell_type": "code",
   "execution_count": 14,
   "metadata": {},
   "outputs": [
    {
     "name": "stdout",
     "output_type": "stream",
     "text": [
      "0.9870304482748026\n"
     ]
    }
   ],
   "source": [
    "# 经测试，MLP网络结构如果较为简单或最大迭代步数较少\n",
    "# 会由于目标列正负样本不平衡导致预测全0\n",
    "model = MLPClassifier(hidden_layer_sizes=(10, 10, 5), solver='adam', max_iter=500)\n",
    "model.fit(X_train, y_train)\n",
    "score = cross_val_score(model, X_valid, y_valid, cv=5)\n",
    "print(score.mean())     # average accuracy on valid dataset\n",
    "\n",
    "y_pred = model.predict(X_test)\n",
    "df_pred = pd.DataFrame({'bad_good': y_pred})\n",
    "df_pred.insert(0, 'CUST_ID', df_submit['CUST_ID'])"
   ]
  },
  {
   "cell_type": "code",
   "execution_count": null,
   "metadata": {},
   "outputs": [],
   "source": [
    "df_pred['bad_good'].value_counts()"
   ]
  },
  {
   "cell_type": "code",
   "execution_count": null,
   "metadata": {},
   "outputs": [],
   "source": [
    "df_pred.to_csv('result_MLP.csv', mode='w', index=False)\n",
    "# 该文件提交后得分0.91967317497，说明预处理步骤具有一定可行性"
   ]
  }
 ],
 "metadata": {
  "kernelspec": {
   "display_name": "Python 3",
   "language": "python",
   "name": "python3"
  },
  "language_info": {
   "codemirror_mode": {
    "name": "ipython",
    "version": 3
   },
   "file_extension": ".py",
   "mimetype": "text/x-python",
   "name": "python",
   "nbconvert_exporter": "python",
   "pygments_lexer": "ipython3",
   "version": "3.10.2"
  },
  "orig_nbformat": 4
 },
 "nbformat": 4,
 "nbformat_minor": 2
}
